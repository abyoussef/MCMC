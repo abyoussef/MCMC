{
 "cells": [
  {
   "cell_type": "markdown",
   "metadata": {},
   "source": [
    "# Exercice 3 : Stochastic Gradient Learning in Neural Networks "
   ]
  },
  {
   "cell_type": "markdown",
   "metadata": {},
   "source": [
    "We consider the observation $z = (x,y)$ and the cost or expected risk given a parameter $w$ with respect to the probability $\\mathbb{P}$ : "
   ]
  },
  {
   "cell_type": "markdown",
   "metadata": {},
   "source": [
    "$$ R(w) = \\mathbb{E}[J(w,z)] = \\int ( y - w^T x)^2 d \\mathbb{P}(z) $$"
   ]
  },
  {
   "cell_type": "markdown",
   "metadata": {},
   "source": [
    "While we don't have complete information about $\\mathbb{P}$, we will consider the empirical risk function estimated based on the $n\\in\\mathbb{N}$ drawn samples $\\{ z_i = (x_i,y_i)\\}_{i=1}^n $"
   ]
  },
  {
   "cell_type": "markdown",
   "metadata": {},
   "source": [
    "$$R_n(w) = \\frac{1}{n} \\sum_{i=1}^{n} (y_i - w^T x_i )^2 $$ "
   ]
  },
  {
   "cell_type": "markdown",
   "metadata": {},
   "source": [
    "We define $J(z,w) = (y - w^T x )^2$ the loss for one sample."
   ]
  },
  {
   "cell_type": "markdown",
   "metadata": {},
   "source": [
    "### 1. Stochastic gradient descent algorithm : "
   ]
  },
  {
   "cell_type": "markdown",
   "metadata": {},
   "source": [
    "The goal of the gradient descent algorithm is to minimize the empirical cost over $w$. In the stochastic gradient descent algorithm, we minimize $R_n(w)$ by deriving over one sample choosen randomly for each iteration. "
   ]
  },
  {
   "cell_type": "markdown",
   "metadata": {},
   "source": [
    "Which give the following update rule for $w$ : \n",
    "    $$ w_{t+1} \\leftarrow w_t - \\epsilon_t \\nabla_w J(z,w_t) $$\n",
    "with \n",
    "    $$ J(z,w_t) = (y_i - w^T x_i )^2 $$\n",
    "and \n",
    "    $$ \\nabla_w J(z,w_t)  =  - (y_i - w^T x_i ) x_i $$"
   ]
  },
  {
   "cell_type": "markdown",
   "metadata": {},
   "source": [
    "The update rule for $\\epsilon$ is : \n",
    "    $$ \\epsilon_t = \\frac{1}{t^\\alpha} $$ for $t \\geq 1$ \n",
    "with $\\alpha \\in [0.5,1]$"
   ]
  },
  {
   "cell_type": "markdown",
   "metadata": {},
   "source": [
    "## 2. Implementation :"
   ]
  },
  {
   "cell_type": "code",
   "execution_count": 1,
   "metadata": {
    "collapsed": false
   },
   "outputs": [],
   "source": [
    "# Import the libraries : \n",
    "import numpy as np \n",
    "%matplotlib inline \n",
    "import matplotlib.pyplot as plt "
   ]
  },
  {
   "cell_type": "code",
   "execution_count": 2,
   "metadata": {
    "collapsed": false
   },
   "outputs": [],
   "source": [
    "N = 50 # Number of samples \n",
    "# Generate 200 random points in two dimensions : \n",
    "X = np.random.uniform(0,1,[N,2])\n",
    "# Generate the normal vector w of the line that separate the points : \n",
    "w_true = np.array([1,-2])\n",
    "# Define the labels of the points : \n",
    "y_true = np.sign(np.matmul(X,w_true))\n",
    "y_true_bool = (y_true > 0 )"
   ]
  },
  {
   "cell_type": "code",
   "execution_count": 3,
   "metadata": {
    "collapsed": false
   },
   "outputs": [],
   "source": [
    "def plotline(w,is_true=False): \n",
    "    # Function to plot the vectorial line of normal w \n",
    "    plt.ylim((0,1))\n",
    "    plt.xlim((0,1))\n",
    "    if is_true : \n",
    "        s = 'y--'\n",
    "    else:\n",
    "        s = 'b-'\n",
    "    if w[0] == 0 : \n",
    "        plt.plot(np.array([0,0]),np.array([0,1]) , s)\n",
    "        return;\n",
    "    elif w[1] == 0 : \n",
    "        plt.plot(np.array([0,1]),np.array([0,0]) , s)\n",
    "        return;\n",
    "    else :       \n",
    "        x = 1; \n",
    "        y = -(w[0]*x) / w[1];\n",
    "        plt.plot(np.array([0,x]),np.array([0,y]) , s)\n",
    "        return; "
   ]
  },
  {
   "cell_type": "code",
   "execution_count": 4,
   "metadata": {
    "collapsed": false
   },
   "outputs": [],
   "source": [
    "def GS(X,y,T,alpha): \n",
    "    # Implementation of the stochastic gradient to find the optimal w after T iteration : \n",
    "    ## Step 1 : initialization\n",
    "    alpha = 0.5\n",
    "    w = np.random.uniform(-1,1,size = 2)\n",
    "    N = X.shape[0]\n",
    "    ## Step 2 : Stochastic Gradient iteration\n",
    "    eps = 1 \n",
    "    for k in range(T) : \n",
    "        i = np.random.randint(N)\n",
    "        w = w  +  eps * (y[i] - np.matmul(X[i],w) ) * X[i]\n",
    "        eps = 1.0 / (k+1)**alpha \n",
    "    return w / w[0] # Output new w with w[0] = 1 "
   ]
  },
  {
   "cell_type": "code",
   "execution_count": 5,
   "metadata": {
    "collapsed": false
   },
   "outputs": [
    {
     "data": {
      "text/plain": [
       "array([ 1.        , -1.54499072])"
      ]
     },
     "execution_count": 5,
     "metadata": {},
     "output_type": "execute_result"
    }
   ],
   "source": [
    "w_gs = GS(X,y_true,10,0.5)\n",
    "w_gs"
   ]
  },
  {
   "cell_type": "code",
   "execution_count": 6,
   "metadata": {
    "collapsed": false
   },
   "outputs": [
    {
     "data": {
      "text/plain": [
       "<matplotlib.collections.PathCollection at 0x10f597a20>"
      ]
     },
     "execution_count": 6,
     "metadata": {},
     "output_type": "execute_result"
    },
    {
     "data": {
      "image/png": "[encoded data removed]",
      "text/plain": [
       "<matplotlib.figure.Figure at 0x106e2cb38>"
      ]
     },
     "metadata": {},
     "output_type": "display_data"
    }
   ],
   "source": [
    "# Plot the points with the line \n",
    "plotline(w_true,is_true = True)\n",
    "plotline(w_gs,is_true =False)\n",
    "plt.scatter(X[y_true_bool,0],X[y_true_bool,1],c='r',marker='x')\n",
    "plt.scatter(X[~y_true_bool,0],X[~y_true_bool,1],c='g',marker='x')"
   ]
  }
 ],
 "metadata": {
  "anaconda-cloud": {},
  "kernelspec": {
   "display_name": "Python [default]",
   "language": "python",
   "name": "python3"
  },
  "language_info": {
   "codemirror_mode": {
    "name": "ipython",
    "version": 3
   },
   "file_extension": ".py",
   "mimetype": "text/x-python",
   "name": "python",
   "nbconvert_exporter": "python",
   "pygments_lexer": "ipython3",
   "version": "3.5.2"
  }
 },
 "nbformat": 4,
 "nbformat_minor": 1
}
