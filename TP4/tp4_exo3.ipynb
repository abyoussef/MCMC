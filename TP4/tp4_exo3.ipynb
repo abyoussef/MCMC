{
 "cells": [
  {
   "cell_type": "markdown",
   "metadata": {},
   "source": [
    "                                             MVA - MCMC\n",
    "                                             TP4 - Bayesian analysis of a one-way random effects model\n",
    "                                        Achari Berrada Youssef "
   ]
  },
  {
   "cell_type": "markdown",
   "metadata": {},
   "source": [
    "# Exercise 3: Bayesian analysis of a one-way random effects model"
   ]
  },
  {
   "cell_type": "markdown",
   "metadata": {},
   "source": [
    "Inverse Gamma distribution : \n",
    "$$ x \\rightarrow \\frac{1}{x^{a+1}} \\exp\\left(-\\frac{b}{x}\\right) \\mathbb{1}_{\\mathbb{R}^+}(x)  $$ "
   ]
  },
  {
   "cell_type": "code",
   "execution_count": 3,
   "metadata": {
    "collapsed": false
   },
   "outputs": [],
   "source": [
    "import numpy as np \n",
    "%matplotlib inline \n",
    "import matplotlib.pyplot as plt \n",
    "from scipy.stats import invgamma "
   ]
  },
  {
   "cell_type": "code",
   "execution_count": 18,
   "metadata": {
    "collapsed": true
   },
   "outputs": [],
   "source": [
    "def inv_gamma(a,b) : \n",
    "    return invgamma.rvs(a = a, scale = b)"
   ]
  },
  {
   "cell_type": "code",
   "execution_count": 61,
   "metadata": {
    "collapsed": false
   },
   "outputs": [
    {
     "data": {
      "image/png": "[encoded data removed]",
      "text/plain": [
       "<matplotlib.figure.Figure at 0x116c5e550>"
      ]
     },
     "metadata": {},
     "output_type": "display_data"
    }
   ],
   "source": [
    "## Test of the inverse gamma sampler : \n",
    "l = [] \n",
    "for i in range(6000):\n",
    "    l.append(inv_gamma(2,2))\n",
    "plt.hist(l , range = (0,4), bins = np.linspace(0,4,17) , width= 0.02 ) ;"
   ]
  }
 ],
 "metadata": {
  "anaconda-cloud": {},
  "kernelspec": {
   "display_name": "Python [conda env:py27]",
   "language": "python",
   "name": "conda-env-py27-py"
  },
  "language_info": {
   "codemirror_mode": {
    "name": "ipython",
    "version": 2
   },
   "file_extension": ".py",
   "mimetype": "text/x-python",
   "name": "python",
   "nbconvert_exporter": "python",
   "pygments_lexer": "ipython2",
   "version": "2.7.12"
  }
 },
 "nbformat": 4,
 "nbformat_minor": 1
}
