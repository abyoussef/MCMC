{
 "cells": [
  {
   "cell_type": "markdown",
   "metadata": {},
   "source": [
    "                                             MVA - MCMC\n",
    "                                             TP3 - Hasting-Metropolis and Gibbs samplers\n",
    "                                        Achari Berrada Youssef "
   ]
  },
  {
   "cell_type": "markdown",
   "metadata": {},
   "source": [
    "# Exercice 2: Multiplicative Hasting-Metropolis"
   ]
  },
  {
   "cell_type": "code",
   "execution_count": 76,
   "metadata": {
    "collapsed": true
   },
   "outputs": [],
   "source": [
    "# Import the libraries: \n",
    "import numpy as np \n",
    "%matplotlib inline \n",
    "import matplotlib.pyplot as plt \n",
    "from scipy.stats import bernoulli\n",
    "from scipy.stats import norm as nm\n",
    "from scipy.stats import expon as exp "
   ]
  },
  {
   "cell_type": "markdown",
   "metadata": {},
   "source": [
    "We consider the density f as uniform density function in [-1,1], from which we sample $\\epsilon$"
   ]
  },
  {
   "cell_type": "code",
   "execution_count": 43,
   "metadata": {
    "collapsed": false
   },
   "outputs": [],
   "source": [
    "def f(): \n",
    "     np.random.uniform(-1,1)"
   ]
  },
  {
   "cell_type": "markdown",
   "metadata": {},
   "source": [
    "We consider the Bernoulli distribution with parameter 0.5 "
   ]
  },
  {
   "cell_type": "code",
   "execution_count": 44,
   "metadata": {
    "collapsed": true
   },
   "outputs": [],
   "source": [
    "def Ber(p=0.5): \n",
    "     return bernoulli.rvs(p)"
   ]
  },
  {
   "cell_type": "markdown",
   "metadata": {},
   "source": [
    "#### Target distrifution 1 : Gaussian \n",
    "We define the normal centered distribution "
   ]
  },
  {
   "cell_type": "code",
   "execution_count": 55,
   "metadata": {
    "collapsed": false
   },
   "outputs": [],
   "source": [
    "def pi_1(x): \n",
    "    prob = nm(0,1)\n",
    "    return prob.pdf(x)"
   ]
  },
  {
   "cell_type": "markdown",
   "metadata": {},
   "source": [
    "#### Target distribution 2: Exponential "
   ]
  },
  {
   "cell_type": "code",
   "execution_count": 62,
   "metadata": {
    "collapsed": true
   },
   "outputs": [],
   "source": [
    "def pi_2(x) :\n",
    "    prob = exp(0,1)\n",
    "    return prob.pdf(x)"
   ]
  },
  {
   "cell_type": "markdown",
   "metadata": {},
   "source": [
    "### Implementation of the sampler : "
   ]
  },
  {
   "cell_type": "code",
   "execution_count": 72,
   "metadata": {
    "collapsed": true
   },
   "outputs": [],
   "source": [
    "def sampler(X_0,N,pi): \n",
    "    res = [X_0]\n",
    "    x = X_0\n",
    "    y = 0 \n",
    "    alpha = 1 # Acceptation ration of the multiplicatve Hasting-Metropolis sampler\n",
    "    for k in range(N): \n",
    "        # Sample from f \n",
    "        eps = f() \n",
    "        if Ber() == 1 : \n",
    "            y = eps * x \n",
    "            alpha = min(1 , (pi_1(y) * np.abs(eps)) /pi(x))\n",
    "        else : \n",
    "            y = x / eps \n",
    "            alpha = min(1 , pi_1(y) / (pi(x)*np.abs(eps)) )\n",
    "        \n",
    "        if alpha > np.random.uniform(0,1) : # We accept y \n",
    "            res.append(y)\n",
    "            x = y \n",
    "        else : # We reject y \n",
    "            res.append(x)\n",
    "    \n",
    "    return res "
   ]
  },
  {
   "cell_type": "markdown",
   "metadata": {},
   "source": [
    "#### Test  the sampler for Gaussian and Exponential distributions : "
   ]
  },
  {
   "cell_type": "code",
   "execution_count": null,
   "metadata": {
    "collapsed": true
   },
   "outputs": [],
   "source": [
    "N = 1000 # Number of iteration \n",
    "X_0 = 0.4 # Initial point "
   ]
  },
  {
   "cell_type": "code",
   "execution_count": 92,
   "metadata": {
    "collapsed": false
   },
   "outputs": [
    {
     "data": {
      "image/png": "[encoded data removed]",
      "text/plain": [
       "<matplotlib.figure.Figure at 0x112621590>"
      ]
     },
     "metadata": {},
     "output_type": "display_data"
    }
   ],
   "source": [
    "plt.hist(sampler(X_0,N,pi_1) , range = (-4,4), bins = np.linspace(-4,4,17) , width= 0.2 ) ;"
   ]
  },
  {
   "cell_type": "code",
   "execution_count": 91,
   "metadata": {
    "collapsed": false
   },
   "outputs": [
    {
     "name": "stderr",
     "output_type": "stream",
     "text": [
      "/Users/achariberrada/anaconda/envs/py27/lib/python2.7/site-packages/ipykernel/__main__.py:14: RuntimeWarning: divide by zero encountered in double_scalars\n",
      "/Users/achariberrada/anaconda/envs/py27/lib/python2.7/site-packages/ipykernel/__main__.py:11: RuntimeWarning: divide by zero encountered in double_scalars\n",
      "/Users/achariberrada/anaconda/envs/py27/lib/python2.7/site-packages/ipykernel/__main__.py:14: RuntimeWarning: invalid value encountered in double_scalars\n",
      "/Users/achariberrada/anaconda/envs/py27/lib/python2.7/site-packages/ipykernel/__main__.py:11: RuntimeWarning: invalid value encountered in double_scalars\n"
     ]
    },
    {
     "data": {
      "image/png": "[encoded data removed]",
      "text/plain": [
       "<matplotlib.figure.Figure at 0x113391250>"
      ]
     },
     "metadata": {},
     "output_type": "display_data"
    }
   ],
   "source": [
    "plt.hist(sampler(X_0,N,pi_2) , range = (0,4), bins = np.linspace(0,8,17) , width= 0.2 ) ;"
   ]
  }
 ],
 "metadata": {
  "anaconda-cloud": {},
  "kernelspec": {
   "display_name": "Python [conda env:py27]",
   "language": "python",
   "name": "conda-env-py27-py"
  },
  "language_info": {
   "codemirror_mode": {
    "name": "ipython",
    "version": 2
   },
   "file_extension": ".py",
   "mimetype": "text/x-python",
   "name": "python",
   "nbconvert_exporter": "python",
   "pygments_lexer": "ipython2",
   "version": "2.7.12"
  }
 },
 "nbformat": 4,
 "nbformat_minor": 1
}
